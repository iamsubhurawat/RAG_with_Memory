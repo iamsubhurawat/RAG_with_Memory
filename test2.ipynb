{
 "cells": [
  {
   "cell_type": "code",
   "execution_count": 1,
   "metadata": {},
   "outputs": [],
   "source": [
    "import cohere\n",
    "llm = cohere.Client()"
   ]
  },
  {
   "cell_type": "code",
   "execution_count": 2,
   "metadata": {},
   "outputs": [],
   "source": [
    "user_input = \"Who is more popular: Nsync or Backstreet Boys?\""
   ]
  },
  {
   "cell_type": "code",
   "execution_count": 8,
   "metadata": {},
   "outputs": [],
   "source": [
    "answer = llm.chat(model=\"command-r\",message=user_input,documents=[\n",
    "    {\n",
    "      \"title\": \"CSPC: Backstreet Boys Popularity Analysis - ChartMasters\",\n",
    "      \"snippet\": \"↓ Skip to Main Content\\n\\nMusic industry – One step closer to being accurate\\n\\nCSPC: Backstreet Boys Popularity Analysis\\n\\nHernán Lopez Posted on February 9, 2017 Posted in CSPC 72 Comments Tagged with Backstreet Boys, Boy band\\n\\nAt one point, Backstreet Boys defined success: massive albums sales across the globe, great singles sales, plenty of chart topping releases, hugely hyped tours and tremendous media coverage.\\n\\nIt is true that they benefited from extraordinarily good market conditions in all markets. After all, the all-time record year for the music business, as far as revenues in billion dollars are concerned, was actually 1999. That is, back when this five men group was at its peak.\"\n",
    "    },\n",
    "    {\n",
    "      \"title\": \"CSPC: NSYNC Popularity Analysis - ChartMasters\",\n",
    "      \"snippet\": \"↓ Skip to Main Content\\n\\nMusic industry – One step closer to being accurate\\n\\nCSPC: NSYNC Popularity Analysis\\n\\nMJD Posted on February 9, 2018 Posted in CSPC 27 Comments Tagged with Boy band, N'Sync\\n\\nAt the turn of the millennium three teen acts were huge in the US, the Backstreet Boys, Britney Spears and NSYNC. The latter is the only one we haven’t study so far. It took 15 years and Adele to break their record of 2,4 million units sold of No Strings Attached in its first week alone.\\n\\nIt wasn’t a fluke, as the second fastest selling album of the Soundscan era prior 2015, was also theirs since Celebrity debuted with 1,88 million units sold.\"\n",
    "    },\n",
    "    {\n",
    "      \"title\": \"CSPC: Backstreet Boys Popularity Analysis - ChartMasters\",\n",
    "      \"snippet\": \" 1997, 1998, 2000 and 2001 also rank amongst some of the very best years.\\n\\nYet the way many music consumers – especially teenagers and young women’s – embraced their output deserves its own chapter. If Jonas Brothers and more recently One Direction reached a great level of popularity during the past decade, the type of success achieved by Backstreet Boys is in a completely different level as they really dominated the business for a few years all over the world, including in some countries that were traditionally hard to penetrate for Western artists.\\n\\nWe will try to analyze the extent of that hegemony with this new article with final results which will more than surprise many readers.\"\n",
    "    },\n",
    "    {\n",
    "      \"title\": \"CSPC: NSYNC Popularity Analysis - ChartMasters\",\n",
    "      \"snippet\": \" Was the teen group led by Justin Timberlake really that big? Was it only in the US where they found success? Or were they a global phenomenon?\\n\\nAs usual, I’ll be using the Commensurate Sales to Popularity Concept in order to relevantly gauge their results. This concept will not only bring you sales information for all NSYNC‘s albums, physical and download singles, as well as audio and video streaming, but it will also determine their true popularity. If you are not yet familiar with the CSPC method, the next page explains it with a short video. I fully recommend watching the video before getting into the sales figures.\"\n",
    "    }\n",
    "  ])"
   ]
  },
  {
   "cell_type": "code",
   "execution_count": 9,
   "metadata": {},
   "outputs": [],
   "source": [
    "answert = answer.text"
   ]
  },
  {
   "cell_type": "code",
   "execution_count": 10,
   "metadata": {},
   "outputs": [],
   "source": [
    "answerq = answer.search_queries"
   ]
  },
  {
   "cell_type": "code",
   "execution_count": 11,
   "metadata": {},
   "outputs": [
    {
     "data": {
      "text/plain": [
       "\"Both the Backstreet Boys and NSYNC were incredibly popular during the late 1990s and early 2000s. \\n\\nThe Backstreet Boys dominated the music business globally for several years and were especially popular with teenagers and young women. Their success is difficult to measure but at their peak in 1999, they represented the all-time record year for music business revenues. \\n\\nNSYNC's popularity was huge too, especially in the US. Their album No Strings Attached broke records by selling 2.4 million units in its first week alone. Their next album Celebrity, was the second fastest-selling album of the Soundscan era before 2015. \\n\\nWhile both groups enjoyed tremendous success, Backstreet Boys' longevity and global appeal give them the edge in terms of popularity.\""
      ]
     },
     "execution_count": 11,
     "metadata": {},
     "output_type": "execute_result"
    }
   ],
   "source": [
    "answert"
   ]
  },
  {
   "cell_type": "code",
   "execution_count": 12,
   "metadata": {},
   "outputs": [],
   "source": [
    "answerq"
   ]
  },
  {
   "cell_type": "code",
   "execution_count": 13,
   "metadata": {},
   "outputs": [],
   "source": [
    "co = cohere.Client()"
   ]
  },
  {
   "cell_type": "code",
   "execution_count": 106,
   "metadata": {},
   "outputs": [],
   "source": [
    "previous_conversation = \"Yes, we do have the Juno Jacket in stock. The jacket is available in sizes XS to XL and its price is $77. It is a heavy-duty, insulated, reversible, and windproof full-zip jacket, made of Cocona® performance fabric and fleece. It's rated 4.33 out of 5 stars.\""
   ]
  },
  {
   "cell_type": "code",
   "execution_count": 112,
   "metadata": {},
   "outputs": [],
   "source": [
    "user_query = \"what is its price ?\""
   ]
  },
  {
   "cell_type": "code",
   "execution_count": 108,
   "metadata": {},
   "outputs": [],
   "source": [
    "context = previous_conversation"
   ]
  },
  {
   "cell_type": "code",
   "execution_count": 109,
   "metadata": {},
   "outputs": [],
   "source": [
    "preamble = f\"You are given a question from user and a context. You have to create a standalone question based on question and context given. Question: {user_query} Context: {context}\""
   ]
  },
  {
   "cell_type": "code",
   "execution_count": 110,
   "metadata": {},
   "outputs": [],
   "source": [
    "ans = co.chat(message=user_query,preamble=preamble)"
   ]
  },
  {
   "cell_type": "code",
   "execution_count": 111,
   "metadata": {},
   "outputs": [
    {
     "data": {
      "text/plain": [
       "'What color options are available for the Juno Jacket?'"
      ]
     },
     "execution_count": 111,
     "metadata": {},
     "output_type": "execute_result"
    }
   ],
   "source": [
    "ans.text"
   ]
  },
  {
   "cell_type": "code",
   "execution_count": 74,
   "metadata": {},
   "outputs": [],
   "source": [
    "from   cohere      import ChatMessage"
   ]
  },
  {
   "cell_type": "code",
   "execution_count": 75,
   "metadata": {},
   "outputs": [],
   "source": [
    "chat_history = []"
   ]
  },
  {
   "cell_type": "code",
   "execution_count": 78,
   "metadata": {},
   "outputs": [],
   "source": [
    "user_query = \"who is virat kohli\""
   ]
  },
  {
   "cell_type": "code",
   "execution_count": 79,
   "metadata": {},
   "outputs": [],
   "source": [
    "ans = co.chat(message=user_query,chat_history=chat_history)"
   ]
  },
  {
   "cell_type": "code",
   "execution_count": 80,
   "metadata": {},
   "outputs": [
    {
     "data": {
      "text/plain": [
       "\"Virat Kohli is a former cricketer and captain of the Indian cricket team. He is regarded as one of the greatest batsmen in the history of the sport. He played for the Indian national team from 2008 to 2023 and captained the team from 2014 to 2022 across all formats. He played for the Royal Challengers Bangalore in the Indian Premier League (IPL) and has also been the team's captain since 2013. \\n\\nKohli is known for his aggressive batting style and has broken numerous records during his career. He is the only batter to have an average of over 50 in all three formats of the game—Test, One Day International (ODI), and Twenty20 International (T20I). He has won numerous awards, including the ICC ODI Player of the Year twice and the ICC Spirit of Cricket Award. In 2018, he was named as one of the world's 100 most influential people by *Time* magazine. \\n\\nBesides his cricketing achievements, Kohli is also known for his fitness and has been credited for bringing a new level of athleticism to the Indian cricket team. He is also a prominent figure in the Indian media and has a large following on social media. He is married to the Bollywood actress Anushka Sharma, and they have a daughter together.\""
      ]
     },
     "execution_count": 80,
     "metadata": {},
     "output_type": "execute_result"
    }
   ],
   "source": [
    "ans.text"
   ]
  },
  {
   "cell_type": "code",
   "execution_count": 88,
   "metadata": {},
   "outputs": [],
   "source": [
    "chat_history.extend([ChatMessage(role=\"USER\", message=user_query),ChatMessage(role=\"CHATBOT\", message=ans.text)])"
   ]
  },
  {
   "cell_type": "code",
   "execution_count": 89,
   "metadata": {},
   "outputs": [
    {
     "data": {
      "text/plain": [
       "[ChatMessage(role='USER', message='who is virat kohli'),\n",
       " ChatMessage(role='CHATBOT', message=\"Virat Kohli is a former cricketer and captain of the Indian cricket team. He is regarded as one of the greatest batsmen in the history of the sport. He played for the Indian national team from 2008 to 2023 and captained the team from 2014 to 2022 across all formats. He played for the Royal Challengers Bangalore in the Indian Premier League (IPL) and has also been the team's captain since 2013. \\n\\nKohli is known for his aggressive batting style and has broken numerous records during his career. He is the only batter to have an average of over 50 in all three formats of the game—Test, One Day International (ODI), and Twenty20 International (T20I). He has won numerous awards, including the ICC ODI Player of the Year twice and the ICC Spirit of Cricket Award. In 2018, he was named as one of the world's 100 most influential people by *Time* magazine. \\n\\nBesides his cricketing achievements, Kohli is also known for his fitness and has been credited for bringing a new level of athleticism to the Indian cricket team. He is also a prominent figure in the Indian media and has a large following on social media. He is married to the Bollywood actress Anushka Sharma, and they have a daughter together.\")]"
      ]
     },
     "execution_count": 89,
     "metadata": {},
     "output_type": "execute_result"
    }
   ],
   "source": [
    "chat_history "
   ]
  },
  {
   "cell_type": "code",
   "execution_count": 90,
   "metadata": {},
   "outputs": [
    {
     "data": {
      "text/plain": [
       "list"
      ]
     },
     "execution_count": 90,
     "metadata": {},
     "output_type": "execute_result"
    }
   ],
   "source": [
    "type(chat_history)"
   ]
  },
  {
   "cell_type": "code",
   "execution_count": 91,
   "metadata": {},
   "outputs": [
    {
     "data": {
      "text/plain": [
       "ChatMessage(role='USER', message='who is virat kohli')"
      ]
     },
     "execution_count": 91,
     "metadata": {},
     "output_type": "execute_result"
    }
   ],
   "source": [
    "chat_history[0]"
   ]
  },
  {
   "cell_type": "code",
   "execution_count": 92,
   "metadata": {},
   "outputs": [
    {
     "data": {
      "text/plain": [
       "cohere.types.chat_message.ChatMessage"
      ]
     },
     "execution_count": 92,
     "metadata": {},
     "output_type": "execute_result"
    }
   ],
   "source": [
    "type(chat_history[0])"
   ]
  },
  {
   "cell_type": "code",
   "execution_count": 97,
   "metadata": {},
   "outputs": [],
   "source": [
    "ch = chat_history[1]"
   ]
  },
  {
   "cell_type": "code",
   "execution_count": 98,
   "metadata": {},
   "outputs": [
    {
     "data": {
      "text/plain": [
       "\"Virat Kohli is a former cricketer and captain of the Indian cricket team. He is regarded as one of the greatest batsmen in the history of the sport. He played for the Indian national team from 2008 to 2023 and captained the team from 2014 to 2022 across all formats. He played for the Royal Challengers Bangalore in the Indian Premier League (IPL) and has also been the team's captain since 2013. \\n\\nKohli is known for his aggressive batting style and has broken numerous records during his career. He is the only batter to have an average of over 50 in all three formats of the game—Test, One Day International (ODI), and Twenty20 International (T20I). He has won numerous awards, including the ICC ODI Player of the Year twice and the ICC Spirit of Cricket Award. In 2018, he was named as one of the world's 100 most influential people by *Time* magazine. \\n\\nBesides his cricketing achievements, Kohli is also known for his fitness and has been credited for bringing a new level of athleticism to the Indian cricket team. He is also a prominent figure in the Indian media and has a large following on social media. He is married to the Bollywood actress Anushka Sharma, and they have a daughter together.\""
      ]
     },
     "execution_count": 98,
     "metadata": {},
     "output_type": "execute_result"
    }
   ],
   "source": [
    "ch.message"
   ]
  },
  {
   "cell_type": "code",
   "execution_count": 99,
   "metadata": {},
   "outputs": [
    {
     "data": {
      "text/plain": [
       "2"
      ]
     },
     "execution_count": 99,
     "metadata": {},
     "output_type": "execute_result"
    }
   ],
   "source": [
    "len(chat_history)"
   ]
  },
  {
   "cell_type": "code",
   "execution_count": 113,
   "metadata": {},
   "outputs": [],
   "source": [
    "q1 = \"how much does the juno jacket cost\"\n",
    "q2 = \"what is its price\""
   ]
  },
  {
   "cell_type": "code",
   "execution_count": 114,
   "metadata": {},
   "outputs": [],
   "source": [
    "preamble = f\"You are given two questions from user and you have to create a single question by combining them without losing the actual meaning of the questions. Question 1: {q1} Question 2: {q2}\""
   ]
  },
  {
   "cell_type": "code",
   "execution_count": 115,
   "metadata": {},
   "outputs": [],
   "source": [
    "ans = co.chat(message=q2,preamble=preamble)"
   ]
  },
  {
   "cell_type": "code",
   "execution_count": 116,
   "metadata": {},
   "outputs": [
    {
     "data": {
      "text/plain": [
       "'How much does the Juno jacket cost?'"
      ]
     },
     "execution_count": 116,
     "metadata": {},
     "output_type": "execute_result"
    }
   ],
   "source": [
    "ans.text"
   ]
  },
  {
   "cell_type": "code",
   "execution_count": 1,
   "metadata": {},
   "outputs": [],
   "source": [
    "import cohere\n",
    "import numpy as np\n",
    "\n",
    "co = cohere.Client(\"Ty0GTOFkczasbpunJ1k01c1e5w98m7OPeUfFOkt4\")\n",
    "\n",
    "# get the embeddings\n",
    "phrases = [\"i love soup\"]\n",
    "\n",
    "model=\"embed-english-v3.0\"\n",
    "input_type=\"search_query\"\n",
    "\n",
    "res = co.embed(texts=phrases,\n",
    "                model=model,\n",
    "                input_type=input_type,\n",
    "                embedding_types=['float'])\n",
    "\n",
    "# (soup1, soup2, london) = res.embeddings.float\n",
    "\n",
    "# # compare them\n",
    "# def calculate_similarity(a, b):\n",
    "#   return np.dot(a, b) / (np.linalg.norm(a) * np.linalg.norm(b))\n",
    "\n",
    "# calculate_similarity(soup1, soup2) # 0.85 - very similar!\n",
    "# calculate_similarity(soup1, london) # 0.16 - not similar!"
   ]
  },
  {
   "cell_type": "code",
   "execution_count": 12,
   "metadata": {},
   "outputs": [
    {
     "data": {
      "text/plain": [
       "1024"
      ]
     },
     "execution_count": 12,
     "metadata": {},
     "output_type": "execute_result"
    }
   ],
   "source": [
    "len(res.embeddings.float[0])"
   ]
  },
  {
   "cell_type": "code",
   "execution_count": 2,
   "metadata": {},
   "outputs": [
    {
     "ename": "ModuleNotFoundError",
     "evalue": "No module named 'langchain_cohere'",
     "output_type": "error",
     "traceback": [
      "\u001b[0;31m---------------------------------------------------------------------------\u001b[0m",
      "\u001b[0;31mModuleNotFoundError\u001b[0m                       Traceback (most recent call last)",
      "Cell \u001b[0;32mIn[2], line 1\u001b[0m\n\u001b[0;32m----> 1\u001b[0m \u001b[38;5;28;01mfrom\u001b[39;00m \u001b[38;5;21;01mlangchain_cohere\u001b[39;00m \u001b[38;5;28;01mimport\u001b[39;00m CohereEmbeddings\n\u001b[1;32m      3\u001b[0m cohere_embeddings \u001b[38;5;241m=\u001b[39m CohereEmbeddings(model\u001b[38;5;241m=\u001b[39m\u001b[38;5;124m\"\u001b[39m\u001b[38;5;124membed-english-light-v3.0\u001b[39m\u001b[38;5;124m\"\u001b[39m)\n\u001b[1;32m      4\u001b[0m text \u001b[38;5;241m=\u001b[39m \u001b[38;5;124m\"\u001b[39m\u001b[38;5;124mThis is a test document.\u001b[39m\u001b[38;5;124m\"\u001b[39m\n",
      "\u001b[0;31mModuleNotFoundError\u001b[0m: No module named 'langchain_cohere'"
     ]
    }
   ],
   "source": [
    "from langchain_cohere import CohereEmbeddings\n",
    "\n",
    "cohere_embeddings = CohereEmbeddings(model=\"embed-english-light-v3.0\")\n",
    "text = \"This is a test document.\"\n",
    "\n",
    "query_result = cohere_embeddings.embed_query(text)\n",
    "print(query_result)\n",
    "\n",
    "doc_result = cohere_embeddings.embed_documents([text])\n",
    "print(doc_result)"
   ]
  },
  {
   "cell_type": "code",
   "execution_count": null,
   "metadata": {},
   "outputs": [],
   "source": []
  }
 ],
 "metadata": {
  "kernelspec": {
   "display_name": "myvenv",
   "language": "python",
   "name": "python3"
  },
  "language_info": {
   "codemirror_mode": {
    "name": "ipython",
    "version": 3
   },
   "file_extension": ".py",
   "mimetype": "text/x-python",
   "name": "python",
   "nbconvert_exporter": "python",
   "pygments_lexer": "ipython3",
   "version": "3.9.18"
  }
 },
 "nbformat": 4,
 "nbformat_minor": 2
}
