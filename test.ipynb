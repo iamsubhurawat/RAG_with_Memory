{
 "cells": [
  {
   "cell_type": "code",
   "execution_count": 1,
   "metadata": {},
   "outputs": [],
   "source": [
    "import cohere\n",
    "co = cohere.Client(\"Ty0GTOFkczasbpunJ1k01c1e5w98m7OPeUfFOkt4\")"
   ]
  },
  {
   "cell_type": "code",
   "execution_count": 2,
   "metadata": {},
   "outputs": [],
   "source": [
    "l = co.chat(\n",
    "  model=\"command-r\",\n",
    "  message=\"hello\",\n",
    "  documents=[\n",
    "    {\"title\": \"\", \"snippet\": \"Emperor penguins are the tallest.\"},\n",
    "    {\"title\": \"\", \"snippet\": \"Emperor penguins only live in Antarctica.\"},\n",
    "    {\"title\": \"\", \"snippet\": \"Animals are different from plants.\"}\n",
    "  ])"
   ]
  },
  {
   "cell_type": "code",
   "execution_count": 3,
   "metadata": {},
   "outputs": [
    {
     "data": {
      "text/plain": [
       "NonStreamedChatResponse(text='Hello! How can I help you today?', generation_id='510c30bf-daa5-4aa2-8d5b-f65aaa2e6663', citations=None, documents=None, is_search_required=None, search_queries=None, search_results=None, finish_reason='COMPLETE', tool_calls=None, chat_history=[ChatMessage(role='USER', message='hello'), ChatMessage(role='CHATBOT', message='Hello! How can I help you today?')], meta=ApiMeta(api_version=ApiMetaApiVersion(version='1', is_deprecated=None, is_experimental=None), billed_units=ApiMetaBilledUnits(input_tokens=35, output_tokens=9, search_units=None, classifications=None), tokens=ApiMetaTokens(input_tokens=726, output_tokens=9), warnings=None), response_id='0fac81d4-b80b-43a9-a9ec-1e6b17ebcde1')"
      ]
     },
     "execution_count": 3,
     "metadata": {},
     "output_type": "execute_result"
    }
   ],
   "source": [
    "l"
   ]
  },
  {
   "cell_type": "code",
   "execution_count": 4,
   "metadata": {},
   "outputs": [
    {
     "data": {
      "text/plain": [
       "'Hello! How can I help you today?'"
      ]
     },
     "execution_count": 4,
     "metadata": {},
     "output_type": "execute_result"
    }
   ],
   "source": [
    "l.text"
   ]
  },
  {
   "cell_type": "code",
   "execution_count": 15,
   "metadata": {},
   "outputs": [],
   "source": [
    "import requests\n",
    "\n",
    "url = 'http://192.168.30.106/magento2/magento/pub/rest/V1/semantic/search'\n",
    "\n",
    "payload = {\n",
    "    'query': \"red jackets\"\n",
    "}\n",
    "\n",
    "# Make a POST request with JSON payload\n",
    "response = requests.post(url, json=payload)"
   ]
  },
  {
   "cell_type": "code",
   "execution_count": 16,
   "metadata": {},
   "outputs": [
    {
     "data": {
      "text/plain": [
       "<Response [200]>"
      ]
     },
     "execution_count": 16,
     "metadata": {},
     "output_type": "execute_result"
    }
   ],
   "source": [
    "response"
   ]
  },
  {
   "cell_type": "code",
   "execution_count": 17,
   "metadata": {},
   "outputs": [],
   "source": [
    "import json"
   ]
  },
  {
   "cell_type": "code",
   "execution_count": 18,
   "metadata": {},
   "outputs": [],
   "source": [
    "t = json.loads(response.text)"
   ]
  },
  {
   "cell_type": "code",
   "execution_count": 105,
   "metadata": {},
   "outputs": [],
   "source": [
    "docsd = t[0]['data']['documents'][0]"
   ]
  },
  {
   "cell_type": "code",
   "execution_count": 106,
   "metadata": {},
   "outputs": [],
   "source": [
    "docsm = t[0]['data']['metadatas'][0]"
   ]
  },
  {
   "cell_type": "code",
   "execution_count": 107,
   "metadata": {},
   "outputs": [],
   "source": [
    "i = 0\n",
    "documents = []\n",
    "for doc in docsm:\n",
    "    product_desc = \"\"\n",
    "    for key in doc.keys():\n",
    "        product_desc = product_desc + f\"{key}:{doc[key]}\" + \"\\n\"\n",
    "    product_name  = doc['name']\n",
    "    product_desc = product_desc + f\"details: {docsd[i]}\"\n",
    "    d = {\"title\":product_name, \"snippet\": product_desc}\n",
    "    documents.append(d)\n",
    "    i = i + 1 "
   ]
  },
  {
   "cell_type": "code",
   "execution_count": 109,
   "metadata": {},
   "outputs": [
    {
     "name": "stdout",
     "output_type": "stream",
     "text": [
      "[{'title': 'Proteus Fitness Jackshirt', 'snippet': 'climate:All-Weather, Cool, Indoor, Spring\\nmaterial:Fleece, Polyester, Wool\\nname:Proteus Fitness Jackshirt\\npattern:Solid\\nprice:45\\nratings:2.6666666666667\\nseller_id:Admin\\nstyle_general:Insulated, Heavy Duty, Soft Shell, &frac14; zip\\nurl:http://192.168.30.106/magento2/magento/pub/proteus-fitness-jackshirt.html\\ndetails: Proteus Fitness Jackshirt Jackets Admin Insulated, Heavy Duty, Soft Shell, &frac14; zip Fleece, Polyester, Wool Solid All-Weather, Cool, Indoor, Spring proteus-fitness-jackshirt    55 cm XS 65 cm S 75 cm M 6 foot L 8 foot XL 10 foot 28 29 30 31 32 33 34 36 38   Black Blue red black Brown blue Gray Green Lavender Multi Orange Purple Red White Yellow'}, {'title': 'Jade Yoga Jacket', 'snippet': 'climate:Cool, Mild, Spring, Windy\\neco_collection:Yes\\nerin_recommends:Yes\\nmaterial:Polyester\\nname:Jade Yoga Jacket\\npattern:Solid\\nprice:32\\nratings:4.3333333333333\\nseller_id:Admin\\nstyle_general:Jacket, Lightweight, Hooded, Soft Shell, &frac14; zip\\nurl:http://192.168.30.106/magento2/magento/pub/jade-yoga-jacket.html\\ndetails: Jade Yoga Jacket Jackets Erin Recommends Admin Jacket, Lightweight, Hooded, Soft Shell, &frac14; zip Polyester Solid Cool, Mild, Spring, Windy Eco Collection Erin Recommends jade-yoga-jacket    55 cm XS 65 cm S 75 cm M 6 foot L 8 foot XL 10 foot 28 29 30 31 32 33 34 36 38   Black Blue red black Brown blue Gray Green Lavender Multi Orange Purple Red White Yellow'}, {'title': 'Juno Jacket', 'snippet': 'climate:Cold, Cool, Spring, Windy, Wintry\\nmaterial:Cocona&reg; performance fabric, Fleece\\nname:Juno Jacket\\npattern:Solid\\nperformance_fabric:Yes\\nprice:77\\nratings:4.3333333333333\\nsale:Yes\\nseller_id:Admin\\nstyle_general:Insulated, Jacket, Heavy Duty, Hard Shell, Full Zip, Reversible\\nurl:http://192.168.30.106/magento2/magento/pub/juno-jacket.html\\ndetails: Juno Jacket Jackets Women Sale Performance Fabrics Admin Insulated, Jacket, Heavy Duty, Hard Shell, Full Zip, Reversible Cocona&reg; performance fabric, Fleece Solid Cold, Cool, Spring, Windy, Wintry Performance Fabric Sale juno-jacket    55 cm XS 65 cm S 75 cm M 6 foot L 8 foot XL 10 foot 28 29 30 31 32 33 34 36 38   Black Blue red black Brown blue Gray Green Lavender Multi Orange Purple Red White Yellow'}, {'title': 'Hyperion Elements Jacket', 'snippet': 'climate:Cool, Rainy, Spring, Windy\\nmaterial:Fleece, LumaTech&trade;, Polyester\\nname:Hyperion Elements Jacket\\nnew:Yes\\npattern:Solid\\nperformance_fabric:Yes\\nprice:51\\nratings:4.5\\nseller_id:Admin\\nstyle_general:Insulated, Rain Coat, Hard Shell, Windbreaker, &frac14; zip\\nurl:http://192.168.30.106/magento2/magento/pub/hyperion-elements-jacket.html\\ndetails: Hyperion Elements Jacket Jackets Admin Insulated, Rain Coat, Hard Shell, Windbreaker, &frac14; zip Fleece, LumaTech&trade;, Polyester Solid Cool, Rainy, Spring, Windy Performance Fabric New hyperion-elements-jacket    55 cm XS 65 cm S 75 cm M 6 foot L 8 foot XL 10 foot 28 29 30 31 32 33 34 36 38   Black Blue red black Brown blue Gray Green Lavender Multi Orange Purple Red White Yellow'}, {'title': 'Inez Full Zip Jacket', 'snippet': 'climate:Cool, Mild, Rainy, Spring, Windy\\nmaterial:Nylon, Polyester, Spandex, CoolTech&trade;\\nname:Inez Full Zip Jacket\\npattern:Color-Blocked\\nprice:59\\nratings:3.3333333333333\\nseller_id:Admin\\nstyle_general:Insulated, Jacket, Hooded, Soft Shell, Full Zip\\nurl:http://192.168.30.106/magento2/magento/pub/inez-full-zip-jacket.html\\ndetails: Inez Full Zip Jacket Jackets Admin Insulated, Jacket, Hooded, Soft Shell, Full Zip Nylon, Polyester, Spandex, CoolTech&trade; Color-Blocked Cool, Mild, Rainy, Spring, Windy inez-full-zip-jacket    55 cm XS 65 cm S 75 cm M 6 foot L 8 foot XL 10 foot 28 29 30 31 32 33 34 36 38   Black Blue red black Brown blue Gray Green Lavender Multi Orange Purple Red White Yellow'}, {'title': 'Kenobi Trail Jacket', 'snippet': 'climate:Cold, Cool, Spring, Windy, Wintry\\neco_collection:Yes\\nmaterial:Cotton, Fleece, Nylon\\nname:Kenobi Trail Jacket\\npattern:Solid\\nprice:47\\nratings:4.6666666666667\\nseller_id:Admin\\nstyle_general:Insulated, Soft Shell, &frac14; zip\\nurl:http://192.168.30.106/magento2/magento/pub/kenobi-trail-jacket.html\\ndetails: Kenobi Trail Jacket Jackets Eco Friendly Admin Insulated, Soft Shell, &frac14; zip Cotton, Fleece, Nylon Solid Cold, Cool, Spring, Windy, Wintry Eco Collection kenobi-trail-jacket    55 cm XS 65 cm S 75 cm M 6 foot L 8 foot XL 10 foot 28 29 30 31 32 33 34 36 38   Black Blue red black Brown blue Gray Green Lavender Multi Orange Purple Red White Yellow'}, {'title': 'Lando Gym Jacket', 'snippet': 'climate:Cold, Cool, Windy, Wintry\\nerin_recommends:Yes\\nmaterial:Polyester, Spandex\\nname:Lando Gym Jacket\\npattern:Solid\\nprice:99\\nratings:3.3333333333333\\nseller_id:Admin\\nstyle_general:Soft Shell, &frac14; zip, Full Zip\\nurl:http://192.168.30.106/magento2/magento/pub/lando-gym-jacket.html\\ndetails: Lando Gym Jacket Jackets Admin Soft Shell, &frac14; zip, Full Zip Polyester, Spandex Solid Cold, Cool, Windy, Wintry Erin Recommends lando-gym-jacket    55 cm XS 65 cm S 75 cm M 6 foot L 8 foot XL 10 foot 28 29 30 31 32 33 34 36 38   Black Blue red black Brown blue Gray Green Lavender Multi Orange Purple Red White Yellow'}, {'title': 'Riona Full Zip Jacket', 'snippet': 'climate:Cold, Cool, Spring, Wintry\\nmaterial:LumaTech&trade;, Lycra&reg;, Wool\\nname:Riona Full Zip Jacket\\npattern:Solid\\nprice:60\\nratings:4.3333333333333\\nseller_id:Admin\\nstyle_general:Insulated, Jacket, Hooded, Soft Shell, Windbreaker, Full Zip\\nurl:http://192.168.30.106/magento2/magento/pub/riona-full-zip-jacket.html\\ndetails: Riona Full Zip Jacket Jackets Admin Insulated, Jacket, Hooded, Soft Shell, Windbreaker, Full Zip LumaTech&trade;, Lycra&reg;, Wool Solid Cold, Cool, Spring, Wintry riona-full-zip-jacket    55 cm XS 65 cm S 75 cm M 6 foot L 8 foot XL 10 foot 28 29 30 31 32 33 34 36 38   Black Blue red black Brown blue Gray Green Lavender Multi Orange Purple Red White Yellow'}, {'title': 'Beaumont Summit Kit', 'snippet': 'climate:Cool, Rainy, Spring, Windy\\nmaterial:Fleece, LumaTech&trade;, Polyester\\nname:Beaumont Summit Kit\\npattern:Solid\\nperformance_fabric:Yes\\nprice:42\\nratings:4.5\\nsale:Yes\\nseller_id:Admin\\nstyle_general:Lightweight, Hooded, Rain Coat, Hard Shell, Windbreaker, &frac14; zip, Reversible\\nurl:http://192.168.30.106/magento2/magento/pub/beaumont-summit-kit.html\\ndetails: Beaumont Summit Kit Jackets Admin Lightweight, Hooded, Rain Coat, Hard Shell, Windbreaker, &frac14; zip, Reversible Fleece, LumaTech&trade;, Polyester Solid Cool, Rainy, Spring, Windy Performance Fabric Sale beaumont-summit-kit    55 cm XS 65 cm S 75 cm M 6 foot L 8 foot XL 10 foot 28 29 30 31 32 33 34 36 38   Black Blue red black Brown blue Gray Green Lavender Multi Orange Purple Red White Yellow'}, {'title': 'Augusta Pullover Jacket', 'snippet': 'climate:All-Weather, Cool, Indoor, Mild, Spring\\nmaterial:Fleece, Polyester\\nname:Augusta Pullover Jacket\\npattern:Solid\\nprice:57\\nratings:4.3333333333333\\nseller_id:Admin\\nstyle_general:Jacket, Soft Shell, Windbreaker, &frac14; zip, Pullover\\nurl:http://192.168.30.106/magento2/magento/pub/augusta-pullover-jacket.html\\ndetails: Augusta Pullover Jacket Jackets Admin Jacket, Soft Shell, Windbreaker, &frac14; zip, Pullover Fleece, Polyester Solid All-Weather, Cool, Indoor, Mild, Spring augusta-pullover-jacket    55 cm XS 65 cm S 75 cm M 6 foot L 8 foot XL 10 foot 28 29 30 31 32 33 34 36 38   Black Blue red black Brown blue Gray Green Lavender Multi Orange Purple Red White Yellow'}, {'title': 'Josie Yoga Jacket', 'snippet': 'climate:Indoor, Mild, Spring\\nmaterial:Polyester, Spandex, CoolTech&trade;\\nname:Josie Yoga Jacket\\npattern:Solid\\nprice:56\\nratings:3.5\\nsale:Yes\\nseller_id:Admin\\nstyle_general:Jacket, Lightweight, Soft Shell, Pullover\\nurl:http://192.168.30.106/magento2/magento/pub/josie-yoga-jacket.html\\ndetails: Josie Yoga Jacket Jackets Women Sale Admin Jacket, Lightweight, Soft Shell, Pullover Polyester, Spandex, CoolTech&trade; Solid Indoor, Mild, Spring Sale josie-yoga-jacket    55 cm XS 65 cm S 75 cm M 6 foot L 8 foot XL 10 foot 28 29 30 31 32 33 34 36 38   Black Blue red black Brown blue Gray Green Lavender Multi Orange Purple Red White Yellow'}, {'title': 'Montana Wind Jacket', 'snippet': 'climate:Cool, Mild, Spring, Windy\\nmaterial:Nylon, Polyester\\nname:Montana Wind Jacket\\nnew:Yes\\npattern:Solid\\nprice:49\\nratings:2.6666666666667\\nseller_id:Admin\\nstyle_general:Lightweight, Hooded, Hard Shell, Windbreaker, Full Zip\\nurl:http://192.168.30.106/magento2/magento/pub/montana-wind-jacket.html\\ndetails: Montana Wind Jacket Jackets Admin Lightweight, Hooded, Hard Shell, Windbreaker, Full Zip Nylon, Polyester Solid Cool, Mild, Spring, Windy New montana-wind-jacket    55 cm XS 65 cm S 75 cm M 6 foot L 8 foot XL 10 foot 28 29 30 31 32 33 34 36 38   Black Blue red black Brown blue Gray Green Lavender Multi Orange Purple Red White Yellow'}]\n"
     ]
    }
   ],
   "source": [
    "print(documents)"
   ]
  },
  {
   "cell_type": "code",
   "execution_count": 110,
   "metadata": {},
   "outputs": [],
   "source": [
    "import cohere"
   ]
  },
  {
   "cell_type": "code",
   "execution_count": 111,
   "metadata": {},
   "outputs": [],
   "source": [
    "llm = cohere.Client()"
   ]
  },
  {
   "cell_type": "code",
   "execution_count": 114,
   "metadata": {},
   "outputs": [],
   "source": [
    "model = llm.chat(model=\"command-r\",message=\"show me the size available in hyperion elements jacket\",documents=documents)\n",
    "answer = model.text"
   ]
  },
  {
   "cell_type": "code",
   "execution_count": 115,
   "metadata": {},
   "outputs": [
    {
     "data": {
      "text/plain": [
       "'The Hyperion Elements Jacket is available in the following sizes:\\n- 55 cm XS\\n- 65 cm S\\n- 75 cm M\\n- 6 foot L\\n- 8 foot XL\\n- 10 foot 2XL'"
      ]
     },
     "execution_count": 115,
     "metadata": {},
     "output_type": "execute_result"
    }
   ],
   "source": [
    "answer"
   ]
  },
  {
   "cell_type": "code",
   "execution_count": 7,
   "metadata": {},
   "outputs": [
    {
     "name": "stdout",
     "output_type": "stream",
     "text": [
      "{\"fact\":\"Smuggling a cat out of ancient Egypt was punishable by death. Phoenician traders eventually succeeded in smuggling felines, which they sold to rich people in Athens and other important cities.\",\"length\":192}\n"
     ]
    }
   ],
   "source": [
    "import requests\n",
    "\n",
    "url = 'https://catfact.ninja/fact'\n",
    "\n",
    "response = requests.get(url)\n",
    "\n",
    "print(response.text)"
   ]
  },
  {
   "cell_type": "code",
   "execution_count": 6,
   "metadata": {},
   "outputs": [],
   "source": [
    "from flask import Flask, jsonify"
   ]
  },
  {
   "cell_type": "code",
   "execution_count": 10,
   "metadata": {},
   "outputs": [],
   "source": [
    "import json"
   ]
  },
  {
   "cell_type": "code",
   "execution_count": 11,
   "metadata": {},
   "outputs": [],
   "source": [
    "data = json.loads(response.text)"
   ]
  },
  {
   "cell_type": "code",
   "execution_count": 12,
   "metadata": {},
   "outputs": [
    {
     "data": {
      "text/plain": [
       "{'fact': 'Smuggling a cat out of ancient Egypt was punishable by death. Phoenician traders eventually succeeded in smuggling felines, which they sold to rich people in Athens and other important cities.',\n",
       " 'length': 192}"
      ]
     },
     "execution_count": 12,
     "metadata": {},
     "output_type": "execute_result"
    }
   ],
   "source": [
    "data"
   ]
  },
  {
   "cell_type": "code",
   "execution_count": 13,
   "metadata": {},
   "outputs": [
    {
     "data": {
      "text/plain": [
       "'Smuggling a cat out of ancient Egypt was punishable by death. Phoenician traders eventually succeeded in smuggling felines, which they sold to rich people in Athens and other important cities.'"
      ]
     },
     "execution_count": 13,
     "metadata": {},
     "output_type": "execute_result"
    }
   ],
   "source": [
    "data['fact']"
   ]
  },
  {
   "cell_type": "code",
   "execution_count": 116,
   "metadata": {},
   "outputs": [],
   "source": [
    "import cohere\n",
    "co = cohere.Client()"
   ]
  },
  {
   "cell_type": "code",
   "execution_count": 117,
   "metadata": {},
   "outputs": [],
   "source": [
    "texts = [\n",
    "   'Hello from Cohere!', 'مرحبًا من كوهير!', 'Hallo von Cohere!',\n",
    "   'Bonjour de Cohere!', '¡Hola desde Cohere!', 'Olá do Cohere!',\n",
    "   'Ciao da Cohere!', '您好，来自 Cohere！', 'कोहियर से नमस्ते!'\n",
    "]"
   ]
  },
  {
   "cell_type": "code",
   "execution_count": 118,
   "metadata": {},
   "outputs": [],
   "source": [
    "response = co.embed(texts=texts, model='multilingual-22-12')\n",
    "embeddings = response.embeddings"
   ]
  },
  {
   "cell_type": "code",
   "execution_count": 122,
   "metadata": {},
   "outputs": [
    {
     "name": "stdout",
     "output_type": "stream",
     "text": [
      "[0.12384033, 0.42895508, 0.37451172, 0.26586914, -0.3100586]\n"
     ]
    }
   ],
   "source": [
    "print(embeddings[8][:5])"
   ]
  }
 ],
 "metadata": {
  "kernelspec": {
   "display_name": "rag-chatbot",
   "language": "python",
   "name": "python3"
  },
  "language_info": {
   "codemirror_mode": {
    "name": "ipython",
    "version": 3
   },
   "file_extension": ".py",
   "mimetype": "text/x-python",
   "name": "python",
   "nbconvert_exporter": "python",
   "pygments_lexer": "ipython3",
   "version": "3.9.18"
  }
 },
 "nbformat": 4,
 "nbformat_minor": 2
}
